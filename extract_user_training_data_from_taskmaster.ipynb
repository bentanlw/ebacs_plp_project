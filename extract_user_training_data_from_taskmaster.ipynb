{
 "metadata": {
  "language_info": {
   "codemirror_mode": {
    "name": "ipython",
    "version": 3
   },
   "file_extension": ".py",
   "mimetype": "text/x-python",
   "name": "python",
   "nbconvert_exporter": "python",
   "pygments_lexer": "ipython3",
   "version": 3
  },
  "orig_nbformat": 2,
  "kernelspec": {
   "name": "python_defaultSpec_1596881650842",
   "display_name": "Python 3.7.7 64-bit ('base': conda)"
  }
 },
 "nbformat": 4,
 "nbformat_minor": 2,
 "cells": [
  {
   "cell_type": "markdown",
   "metadata": {},
   "source": [
    "# Extract Annotated User Sentences from Taskmaster-2\n",
    "Extract annotated user sentences for training an entity recognition model"
   ]
  },
  {
   "cell_type": "markdown",
   "metadata": {},
   "source": [
    "## Get training data\n",
    "The goal of the chatbot model is to interpret the user inputs, and identify intents. \n",
    "I think the flow is something like, identify user intents > generate response/follow-up question > interpret user intent again > repeat. > end conversation.\n",
    "\n",
    "So, the steps for creating a chatbot:  \n",
    "1. Model capable of recognizing entities  \n",
    "2. Model capable of recognizing intents (greeting, question, ending)  \n",
    "3. Put it together"
   ]
  },
  {
   "cell_type": "markdown",
   "metadata": {},
   "source": [
    "### Pull out the User inputs that contain annotations from the json\n",
    "json traversal of the utterances column, i don't need the ids\n",
    "\n",
    "spacy requires training data as a list of tuples - more specifically, each tuple contains a string and a dictionary.  \n",
    "The dictionary has one key \"entities\" which has a list for a value. the value contains a tuple that holds the start_index, end_index and annotation."
   ]
  },
  {
   "cell_type": "code",
   "execution_count": 2,
   "metadata": {},
   "outputs": [],
   "source": [
    "import json\n",
    "data = json.load(open(\"c:\\\\Users\\\\Ben\\\\Documents\\\\ebacs\\\\practical_language_processing\\\\ebacs_plp_project\\\\data\\\\restaurant-search.json\"))"
   ]
  },
  {
   "cell_type": "code",
   "execution_count": 3,
   "metadata": {
    "tags": []
   },
   "outputs": [
    {
     "output_type": "stream",
     "name": "stderr",
     "text": "100%|██████████| 3276/3276 [00:00<00:00, 272748.82it/s]\n"
    }
   ],
   "source": [
    "from tqdm import tqdm\n",
    "# dump_file = 'c:\\\\Users\\\\Ben\\\\Documents\\\\ebacs\\\\practical_language_processing\\\\ebacs_plp_project\\\\data\\\\user-annotated.json'\n",
    "conversations = []\n",
    "\n",
    "for  conversation in tqdm(data):\n",
    "    # temp = []\n",
    "    for sentence in conversation['utterances']:\n",
    "        if len(sentence) == 4:\n",
    "            conversations.append(sentence)"
   ]
  },
  {
   "cell_type": "code",
   "execution_count": 4,
   "metadata": {
    "tags": []
   },
   "outputs": [
    {
     "output_type": "stream",
     "name": "stdout",
     "text": "{'index': 1, 'speaker': 'USER', 'text': 'Hi, I need help finding a sandwich shop to go eat at.', 'segments': [{'start_index': 26, 'end_index': 34, 'text': 'sandwich', 'annotations': [{'name': 'restaurant.type.food'}]}]}\n"
    }
   ],
   "source": [
    "print(conversations[0])"
   ]
  },
  {
   "cell_type": "markdown",
   "metadata": {},
   "source": [
    "To get the properly formatted list, i need to first get a list of strings (i.e. the sentences).  \n",
    "As well as a list of dicts"
   ]
  },
  {
   "cell_type": "code",
   "execution_count": 18,
   "metadata": {
    "tags": []
   },
   "outputs": [],
   "source": [
    "import ast\n",
    "\n",
    "user_sentence = []\n",
    "temp = []\n",
    "user_entities = []\n",
    "\n",
    "for sentence in conversations:\n",
    "    user_sentence.append(sentence['text'])\n",
    "    temp.append('{{\"entities\": [({}, {}, \"{}\")]}}'.format(sentence['segments'][0]['start_index'], sentence['segments'][0]['end_index'], sentence['segments'][0]['annotations'][0]['name']))\n",
    "\n",
    "for ent in temp:\n",
    "    user_entities.append(ast.literal_eval(ent))\n",
    "\n",
    "# conversations[0]['segments'][0].keys()"
   ]
  },
  {
   "cell_type": "code",
   "execution_count": 19,
   "metadata": {},
   "outputs": [
    {
     "output_type": "execute_result",
     "data": {
      "text/plain": "tuple"
     },
     "metadata": {},
     "execution_count": 19
    }
   ],
   "source": [
    "type(user_ent[0]['entities'][0])"
   ]
  },
  {
   "cell_type": "code",
   "execution_count": 29,
   "metadata": {},
   "outputs": [],
   "source": [
    "user_data = zip(user_sentence, user_entities)"
   ]
  },
  {
   "cell_type": "code",
   "execution_count": 30,
   "metadata": {
    "tags": []
   },
   "outputs": [],
   "source": [
    "user_data = tuple(user_data)"
   ]
  },
  {
   "cell_type": "code",
   "execution_count": 35,
   "metadata": {},
   "outputs": [
    {
     "output_type": "execute_result",
     "data": {
      "text/plain": "[(26, 34, 'restaurant.type.food')]"
     },
     "metadata": {},
     "execution_count": 35
    }
   ],
   "source": [
    "user_data[0][1]['entities']"
   ]
  },
  {
   "cell_type": "code",
   "execution_count": 36,
   "metadata": {},
   "outputs": [
    {
     "output_type": "execute_result",
     "data": {
      "text/plain": "('Hi, I need help finding a sandwich shop to go eat at.',\n {'entities': [(26, 34, 'restaurant.type.food')]})"
     },
     "metadata": {},
     "execution_count": 36
    }
   ],
   "source": [
    "user_data[0]"
   ]
  },
  {
   "cell_type": "code",
   "execution_count": 37,
   "metadata": {},
   "outputs": [],
   "source": [
    "dump_file = \"C:\\\\Users\\\\Ben\\\\Documents\\\\ebacs\\\\practical_language_processing\\\\ebacs_plp_project\\\\data\\\\user_training_data.json\"\n",
    "\n",
    "with open(dump_file, 'w', encoding='utf-8') as f:\n",
    "    json.dump(user_data, f)"
   ]
  }
 ]
}