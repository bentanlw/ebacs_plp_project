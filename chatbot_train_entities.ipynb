{
 "metadata": {
  "language_info": {
   "codemirror_mode": {
    "name": "ipython",
    "version": 3
   },
   "file_extension": ".py",
   "mimetype": "text/x-python",
   "name": "python",
   "nbconvert_exporter": "python",
   "pygments_lexer": "ipython3",
   "version": 3
  },
  "orig_nbformat": 2,
  "kernelspec": {
   "name": "python_defaultSpec_1596881352326",
   "display_name": "Python 3.7.7 64-bit ('base': conda)"
  }
 },
 "nbformat": 4,
 "nbformat_minor": 2,
 "cells": [
  {
   "cell_type": "markdown",
   "metadata": {},
   "source": [
    "# Train a Chatbot Model\n",
    "1. By the end of this notebook I should be able to:  \n",
    "    a. Understand the process required to train a chatbot Model  \n",
    "    b. Understand the required inputs to a chatbot Model  \n",
    "    c. Understand the outputs of a chatbot Model  \n",
    "    d. Know how to run a chatbot (from the command line)  \n",
    "    e. Link a chatbot to a database (or at least a function that I can pass replies to)  \n",
    "2. Stretch Goals  \n",
    "    a. Build a small UI to run the chatbot in  "
   ]
  },
  {
   "cell_type": "markdown",
   "metadata": {},
   "source": [
    "## Import Data\n",
    "For this chatbot, I will use the taskmaster-2 dataset. It differs from taskmaster-1 in that it contains search and recommendation oriented dialogs, as well as task-based oriented dialogs, whereas taskmaster-1 was purely task-based. i.e. taskmaster-2 is more suitable for our purpose, since we are trying to build a restaurant recommender, as opposed to a restaurant reservation service.  \n",
    "\n",
    "Starting with the user training data that was previously extracted"
   ]
  },
  {
   "cell_type": "code",
   "execution_count": 1,
   "metadata": {},
   "outputs": [],
   "source": [
    "import json\n",
    "\n",
    "# data_str = json.load(open('C:\\\\Users\\\\Ben\\\\Documents\\\\ebacs\\\\practical_language_processing\\\\ebacs_plp_project\\\\data\\\\user_training_data.json'))\n",
    "data = json.load(open('C:\\\\Users\\\\Ben\\\\Documents\\\\ebacs\\\\practical_language_processing\\\\ebacs_plp_project\\\\data\\\\user_training_data.json'))\n",
    "\n",
    "# data = json.loads(data_str)\n"
   ]
  },
  {
   "cell_type": "code",
   "execution_count": 2,
   "metadata": {
    "tags": []
   },
   "outputs": [
    {
     "output_type": "execute_result",
     "data": {
      "text/plain": "[['Hi, I need help finding a sandwich shop to go eat at.',\n  {'entities': [[26, 34, 'restaurant.type.food']]}],\n [\"Zoccoli's Delicatessen at 1534 Pacific Avenue.\",\n  {'entities': [[0, 22, 'restaurant.name.restaurant']]}],\n ['Next, The Sandwich Spot at 1010 Pacific Avenue.',\n  {'entities': [[6, 23, 'restaurant.name.restaurant']]}]]"
     },
     "metadata": {},
     "execution_count": 2
    }
   ],
   "source": [
    "data[0:3]"
   ]
  },
  {
   "cell_type": "code",
   "execution_count": 3,
   "metadata": {},
   "outputs": [],
   "source": [
    "import spacy\n",
    "# nlp = spacy.load('en_core_web_sm')\n",
    "nlp = spacy.blank('en')\n",
    "\n",
    "if 'ner' not in nlp.pipe_names :\n",
    "    ner = nlp.create_pipe('ner')\n",
    "    nlp.add_pipe(ner, last=True)\n",
    "else :\n",
    "    ner = nlp.get_pipe(\"ner\")"
   ]
  },
  {
   "cell_type": "code",
   "execution_count": 4,
   "metadata": {},
   "outputs": [],
   "source": [
    "# Adding labels to the `ner`\n",
    "\n",
    "for _, annotations in data:\n",
    "  for ent in annotations.get(\"entities\"):\n",
    "    ner.add_label(ent[2])"
   ]
  },
  {
   "cell_type": "code",
   "execution_count": 5,
   "metadata": {},
   "outputs": [],
   "source": [
    "pipe_exceptions = [\"ner\", \"trf_wordpiecer\", \"trf_tok2vec\"]\n",
    "unaffected_pipes = [pipe for pipe in nlp.pipe_names if pipe not in pipe_exceptions]"
   ]
  },
  {
   "cell_type": "code",
   "execution_count": 7,
   "metadata": {
    "tags": [
     "outputPrepend"
    ]
   },
   "outputs": [
    {
     "output_type": "stream",
     "name": "stdout",
     "text": "5.417536883779}\nLosses {'ner': 13528.858296959825}\nLosses {'ner': 13555.258848636575}\nLosses {'ner': 13571.182482688851}\nLosses {'ner': 13582.792217939324}\nLosses {'ner': 13596.165571688838}\nLosses {'ner': 13605.873706101604}\nLosses {'ner': 13616.32800138665}\nLosses {'ner': 13624.084302610881}\nLosses {'ner': 13628.488700806327}\nLosses {'ner': 13649.958231031127}\nLosses {'ner': 13663.120840489097}\nLosses {'ner': 13686.155863463111}\nLosses {'ner': 13704.65247243566}\nLosses {'ner': 13720.504880770273}\nLosses {'ner': 13732.744878753252}\nLosses {'ner': 13743.091487541027}\nLosses {'ner': 13747.903209461994}\nLosses {'ner': 13766.487396731205}\nLosses {'ner': 13777.847793295212}\nLosses {'ner': 13804.063526346512}\nLosses {'ner': 13823.313977196045}\nLosses {'ner': 13837.071679189034}\nLosses {'ner': 13856.83599765522}\nLosses {'ner': 13873.014409735031}\nLosses {'ner': 13882.853473155923}\nLosses {'ner': 13906.435965030618}\nLosses {'ner': 13941.635625331826}\nLosses {'ner': 13955.385388522573}\nLosses {'ner': 13967.704326301046}\nLosses {'ner': 13990.680182962842}\nLosses {'ner': 14041.237883596845}\nLosses {'ner': 14075.568688183255}\nLosses {'ner': 14099.951046257444}\nLosses {'ner': 14117.72521915955}\nLosses {'ner': 14152.820839791722}\nLosses {'ner': 14166.680668859906}\nLosses {'ner': 14171.315432935186}\nLosses {'ner': 14186.99845042748}\nLosses {'ner': 14194.581417962141}\nLosses {'ner': 14206.503544016905}\nLosses {'ner': 14215.255737244315}\nLosses {'ner': 14230.052804171271}\nLosses {'ner': 14242.336384474464}\nLosses {'ner': 14275.975505530067}\nLosses {'ner': 14288.567625998683}\nLosses {'ner': 14319.96989965362}\nLosses {'ner': 14342.29771447105}\nLosses {'ner': 14358.109253107734}\nLosses {'ner': 14372.399235724635}\nLosses {'ner': 14381.559958427377}\nLosses {'ner': 14393.033523529}\nLosses {'ner': 14435.980438201852}\nLosses {'ner': 14458.76330432219}\nLosses {'ner': 14480.277351348825}\nLosses {'ner': 14525.29892203135}\nLosses {'ner': 14534.718410908408}\nLosses {'ner': 14562.630380212493}\nLosses {'ner': 14568.841140045948}\nLosses {'ner': 14578.447028531857}\nLosses {'ner': 14595.364032521076}\nLosses {'ner': 14613.196143164463}\nLosses {'ner': 14634.211588396854}\nLosses {'ner': 14659.145409598179}\nLosses {'ner': 14676.859746231861}\nLosses {'ner': 14690.230262204237}\nLosses {'ner': 14703.81980815453}\nLosses {'ner': 14750.466175704427}\nLosses {'ner': 14780.911555438466}\nLosses {'ner': 14792.763874023385}\nLosses {'ner': 14807.113404481835}\nLosses {'ner': 14815.424271955319}\nLosses {'ner': 14826.162292658515}\nLosses {'ner': 14836.265785782762}\nLosses {'ner': 14846.785979121156}\nLosses {'ner': 14873.763053267427}\nLosses {'ner': 14904.735964625306}\nLosses {'ner': 14910.904217957683}\nLosses {'ner': 14929.024554013438}\nLosses {'ner': 14942.346170990892}\nLosses {'ner': 14982.052416890092}\nLosses {'ner': 15004.567702262826}\nLosses {'ner': 15037.442223041482}\nLosses {'ner': 15063.71065565867}\nLosses {'ner': 15079.051171004005}\nLosses {'ner': 15091.094140707679}\nLosses {'ner': 15110.154579817481}\nLosses {'ner': 15113.317771773018}\nLosses {'ner': 15116.810060544336}\nLosses {'ner': 15134.168548746431}\nLosses {'ner': 15155.286452992284}\nLosses {'ner': 15177.486327572191}\nLosses {'ner': 15192.034178061807}\nLosses {'ner': 15227.773471160257}\nLosses {'ner': 15239.3443334535}\nLosses {'ner': 15255.690700335825}\nLosses {'ner': 15278.290634913767}\nLosses {'ner': 15289.25506229552}\nLosses {'ner': 15304.542700125301}\nLosses {'ner': 15323.448755814159}\nLosses {'ner': 15340.397453381145}\nLosses {'ner': 15343.6185409114}\nLosses {'ner': 15363.630329398835}\nLosses {'ner': 15382.135053186143}\nLosses {'ner': 15396.258693246567}\nLosses {'ner': 15435.59155300113}\nLosses {'ner': 15464.942401675904}\nLosses {'ner': 15481.355685858452}\nLosses {'ner': 15529.569348959649}\nLosses {'ner': 15541.038211612427}\nLosses {'ner': 15552.335270373547}\nLosses {'ner': 15574.481517283642}\nLosses {'ner': 15579.838514862979}\nLosses {'ner': 15596.78728383633}\nLosses {'ner': 15618.715937016928}\nLosses {'ner': 15644.1957727656}\nLosses {'ner': 15669.710084556067}\nLosses {'ner': 15675.77948111149}\nLosses {'ner': 15692.844445763552}\nLosses {'ner': 15719.29088789078}\nLosses {'ner': 15755.739651738131}\nLosses {'ner': 15771.215006528819}\nLosses {'ner': 15805.884667573893}\nLosses {'ner': 15842.101167379344}\nLosses {'ner': 15856.659665523493}\nLosses {'ner': 15877.612516103709}\nLosses {'ner': 15893.23501914593}\nLosses {'ner': 15899.174340574467}\nLosses {'ner': 15922.82580789777}\nLosses {'ner': 15942.853686301434}\nLosses {'ner': 15956.893685190404}\nLosses {'ner': 15962.758130936349}\nLosses {'ner': 15983.674284844124}\nLosses {'ner': 16002.213252930367}\nLosses {'ner': 16017.08040812465}\nLosses {'ner': 16042.316073922837}\nLosses {'ner': 16064.446200160706}\nLosses {'ner': 16083.137633352006}\nLosses {'ner': 16125.337643651688}\nLosses {'ner': 16137.404537229264}\nLosses {'ner': 16175.715327291215}\nLosses {'ner': 16192.598384885514}\nLosses {'ner': 16218.454688815797}\nLosses {'ner': 16231.06357186886}\nLosses {'ner': 16237.000798581565}\nLosses {'ner': 16247.56353926512}\nLosses {'ner': 16286.342024563277}\nLosses {'ner': 16290.773196561659}\nLosses {'ner': 16301.045921175206}\nLosses {'ner': 16310.099022297585}\nLosses {'ner': 16322.240668194765}\nLosses {'ner': 16336.237275915617}\nLosses {'ner': 16342.025297807926}\nLosses {'ner': 16367.832204984898}\nLosses {'ner': 16405.311190771336}\nLosses {'ner': 16447.12205057072}\nLosses {'ner': 16453.41915746259}\nLosses {'ner': 16466.711743073934}\nLosses {'ner': 16503.678665357107}\nLosses {'ner': 16519.698471861357}\nLosses {'ner': 16532.770988064283}\nLosses {'ner': 16556.352718787664}\nLosses {'ner': 16577.002658205503}\nLosses {'ner': 16591.4015242629}\nLosses {'ner': 16609.888427095884}\nLosses {'ner': 16632.98824699449}\nLosses {'ner': 16653.42070158052}\nLosses {'ner': 16664.331147032255}\nLosses {'ner': 16682.6386659913}\nLosses {'ner': 16692.85375985729}\nLosses {'ner': 16719.587884160155}\nLosses {'ner': 16776.168459149474}\nLosses {'ner': 16795.275582584018}\nLosses {'ner': 16817.43975070345}\nLosses {'ner': 16845.247967513675}\nLosses {'ner': 16863.703567298526}\nLosses {'ner': 16883.303668173427}\nLosses {'ner': 16900.67159900295}\nLosses {'ner': 16922.870201679343}\nLosses {'ner': 16941.475329371566}\nLosses {'ner': 16988.767808409804}\nLosses {'ner': 17038.056778403396}\nLosses {'ner': 17058.806382628554}\nLosses {'ner': 17072.94909122812}\nLosses {'ner': 17109.521686586017}\nLosses {'ner': 17123.43651357519}\nLosses {'ner': 17145.84957280981}\nLosses {'ner': 17182.353901060695}\nLosses {'ner': 17202.15560928213}\nLosses {'ner': 17228.068432959193}\nLosses {'ner': 17245.187314125174}\nLosses {'ner': 17281.763598533744}\nLosses {'ner': 17311.226313205832}\nLosses {'ner': 17322.802396180505}\nLosses {'ner': 17356.193815114373}\nLosses {'ner': 17391.13228738534}\nLosses {'ner': 17434.689940812463}\nLosses {'ner': 17447.826451959485}\nLosses {'ner': 17467.040178241605}\nLosses {'ner': 17475.91545397269}\nLosses {'ner': 17498.730108322972}\nLosses {'ner': 17510.203452470178}\nLosses {'ner': 17544.55756700265}\nLosses {'ner': 17569.10535007941}\nLosses {'ner': 17597.586055102223}\nLosses {'ner': 17610.135896625394}\nLosses {'ner': 17634.771618547315}\nLosses {'ner': 17649.176717462415}\nLosses {'ner': 17678.475909652585}\nLosses {'ner': 17695.53333634364}\nLosses {'ner': 17707.88213187682}\nLosses {'ner': 17757.870661082143}\nLosses {'ner': 17790.367002310628}\nLosses {'ner': 17810.882618250722}\nLosses {'ner': 17821.440705301637}\nLosses {'ner': 17832.62820148694}\nLosses {'ner': 17850.318282844895}\nLosses {'ner': 17866.3042928003}\nLosses {'ner': 17876.01554745103}\nLosses {'ner': 17894.01679992343}\nLosses {'ner': 17929.972187038908}\nLosses {'ner': 17944.65045296813}\nLosses {'ner': 17970.873324748525}\nLosses {'ner': 17993.95626103545}\nLosses {'ner': 18024.805679675588}\nLosses {'ner': 18033.507080849657}\nLosses {'ner': 18044.154189642915}\nLosses {'ner': 18065.60253649617}\nLosses {'ner': 18083.63605838681}\nLosses {'ner': 18115.010675486574}\nLosses {'ner': 18164.406691607484}\nLosses {'ner': 18191.90083270932}\nLosses {'ner': 18203.399462741265}\nLosses {'ner': 18224.489783239016}\nLosses {'ner': 18248.613290261874}\nLosses {'ner': 18268.033765148768}\nLosses {'ner': 18307.164329361567}\nLosses {'ner': 18320.511537623057}\nLosses {'ner': 18332.478621777544}\nLosses {'ner': 18358.22546273137}\nLosses {'ner': 18367.957412776002}\nLosses {'ner': 18388.847733315477}\nLosses {'ner': 18406.92650808061}\nLosses {'ner': 18438.09382261003}\nLosses {'ner': 18457.792279016623}\nLosses {'ner': 18489.430576574454}\nLosses {'ner': 18501.629705917487}\nLosses {'ner': 18566.606170189032}\nLosses {'ner': 18586.153166782507}\nLosses {'ner': 18595.36797515715}\nLosses {'ner': 18617.50715557898}\nLosses {'ner': 18640.483289879212}\nLosses {'ner': 18667.195177000413}\nLosses {'ner': 18709.17297832335}\nLosses {'ner': 18743.73819677199}\nLosses {'ner': 18763.67584053839}\nLosses {'ner': 18770.36387000645}\nLosses {'ner': 18786.070046108613}\nLosses {'ner': 18816.61554312373}\nLosses {'ner': 18829.302257534513}\nLosses {'ner': 18842.751519795904}\nLosses {'ner': 18874.624224301824}\nLosses {'ner': 18895.80305283929}\nLosses {'ner': 18914.669258054742}\nLosses {'ner': 18935.511232074747}\nLosses {'ner': 18956.72704833413}\nLosses {'ner': 18970.67754417325}\nLosses {'ner': 18988.313143071184}\nLosses {'ner': 19003.846785601625}\nLosses {'ner': 19029.914767798433}\nLosses {'ner': 19049.06674104596}\nLosses {'ner': 19088.500631388673}\nLosses {'ner': 19131.079774912843}\nLosses {'ner': 19144.704745587358}\nLosses {'ner': 19198.178633984575}\nLosses {'ner': 19217.192213949213}\nLosses {'ner': 19235.066636737833}\nLosses {'ner': 19275.931692775735}\nLosses {'ner': 19304.323775943765}\nLosses {'ner': 19338.13454359437}\nLosses {'ner': 19353.964868840227}\nLosses {'ner': 19372.385416444788}\nLosses {'ner': 19390.848653253564}\nLosses {'ner': 19414.841884073267}\nLosses {'ner': 19443.440238174448}\nLosses {'ner': 19463.79422348405}\nLosses {'ner': 19473.449858662138}\nLosses {'ner': 19501.430678841123}\nLosses {'ner': 19532.956671473035}\nLosses {'ner': 19560.50133895541}\nLosses {'ner': 19583.834764238843}\nLosses {'ner': 19602.7123520341}\nLosses {'ner': 19623.353801485548}\nLosses {'ner': 19657.83732175494}\nLosses {'ner': 19679.29811834956}\nLosses {'ner': 19698.005048748502}\nLosses {'ner': 19729.560779091367}\nLosses {'ner': 19763.61884355212}\nLosses {'ner': 19783.001816746244}\nLosses {'ner': 19798.40752041007}\nLosses {'ner': 19811.751350697527}\nLosses {'ner': 19838.735927161226}\nLosses {'ner': 19861.206030186662}\nLosses {'ner': 19881.151969951043}\nLosses {'ner': 19916.511087458977}\nLosses {'ner': 19955.703155558953}\nLosses {'ner': 19978.996543448815}\nLosses {'ner': 20017.712340396294}\nLosses {'ner': 20046.372681420693}\nLosses {'ner': 20065.089278143296}\nLosses {'ner': 20079.350821298012}\nLosses {'ner': 20104.42947600449}\nLosses {'ner': 20123.103178006062}\nLosses {'ner': 20136.819883328328}\nLosses {'ner': 20145.99268693889}\nLosses {'ner': 20169.443340849528}\nLosses {'ner': 20190.244780134806}\nLosses {'ner': 20213.366714906344}\nLosses {'ner': 20235.095632981906}\nLosses {'ner': 20247.101704847464}\nLosses {'ner': 20283.26143909658}\nLosses {'ner': 20307.52038098539}\nLosses {'ner': 20322.69156600202}\nLosses {'ner': 20339.844179045806}\nLosses {'ner': 20358.352801572928}\nLosses {'ner': 20367.30605079739}\nLosses {'ner': 20385.957701151656}\nLosses {'ner': 20428.28126997261}\nLosses {'ner': 20443.214773600386}\nLosses {'ner': 20455.180632775115}\nLosses {'ner': 20463.148605858372}\nLosses {'ner': 20484.120282208012}\nLosses {'ner': 20500.047937815474}\nLosses {'ner': 20514.194305961417}\nLosses {'ner': 20541.18021888046}\nLosses {'ner': 20559.76773554592}\nLosses {'ner': 20580.41117769985}\nLosses {'ner': 20604.997930114554}\nLosses {'ner': 20625.74616545944}\nLosses {'ner': 20658.066171353148}\nLosses {'ner': 20707.91194123535}\nLosses {'ner': 20727.9287526062}\nLosses {'ner': 20759.830658202456}\nLosses {'ner': 20770.542097215937}\nLosses {'ner': 20793.38623416929}\nLosses {'ner': 20803.447892790125}\nLosses {'ner': 20819.562318032073}\nLosses {'ner': 20850.822692578124}\nLosses {'ner': 20868.475890343474}\nLosses {'ner': 20885.78606564312}\nLosses {'ner': 20942.739536826895}\nLosses {'ner': 20952.365540807532}\nLosses {'ner': 20983.749910180853}\nLosses {'ner': 21006.91759449749}\nLosses {'ner': 21023.970516984748}\nLosses {'ner': 21038.726347570704}\nLosses {'ner': 21050.0385896018}\nLosses {'ner': 21075.46312916784}\nLosses {'ner': 21097.265013819026}\nLosses {'ner': 21128.24017441778}\nLosses {'ner': 21154.13943756132}\nLosses {'ner': 21169.051139955805}\nLosses {'ner': 21190.78173220663}\nLosses {'ner': 21225.142416601466}\nLosses {'ner': 21254.744204407023}\nLosses {'ner': 21273.054104452418}\nLosses {'ner': 21297.891068821238}\nLosses {'ner': 21319.52052486448}\nLosses {'ner': 21340.96389127283}\nLosses {'ner': 21385.603560214327}\nLosses {'ner': 21422.9973609498}\nLosses {'ner': 21430.10520989208}\nLosses {'ner': 21458.811014001654}\nLosses {'ner': 21469.829501484917}\nLosses {'ner': 21484.853777145432}\nLosses {'ner': 21501.410479759263}\nLosses {'ner': 21520.766238515662}\nLosses {'ner': 21543.568205659674}\nLosses {'ner': 21563.335243528174}\nLosses {'ner': 21593.197328155326}\nLosses {'ner': 21612.64779967575}\nLosses {'ner': 21622.866547708796}\nLosses {'ner': 21639.595712786006}\nLosses {'ner': 21658.4921894124}\nLosses {'ner': 21673.021621232318}\nLosses {'ner': 21687.574485083507}\nLosses {'ner': 21714.200078984188}\nLosses {'ner': 21730.57410063355}\nLosses {'ner': 21764.125992079662}\nLosses {'ner': 21775.312219341682}\nLosses {'ner': 21812.46663876383}\nLosses {'ner': 21873.181287010597}\nLosses {'ner': 21891.212560852455}\nLosses {'ner': 21909.201986630844}\nLosses {'ner': 21941.592854817794}\nLosses {'ner': 21956.1316235265}\nLosses {'ner': 21973.20082165806}\nLosses {'ner': 22012.735020895885}\nLosses {'ner': 22037.82230522244}\nLosses {'ner': 22058.30080535023}\nLosses {'ner': 22075.88265409081}\nLosses {'ner': 22110.712590595173}\nLosses {'ner': 22137.84445705025}\nLosses {'ner': 22196.146735568927}\nLosses {'ner': 22228.691513915943}\nLosses {'ner': 22249.317080398487}\nLosses {'ner': 22267.997920890735}\nLosses {'ner': 22291.616777916835}\nLosses {'ner': 22312.42374636738}\nLosses {'ner': 22338.275367518352}\nLosses {'ner': 22356.91702844708}\nLosses {'ner': 22388.97601797192}\nLosses {'ner': 22435.602515240596}\nLosses {'ner': 22460.671943684505}\nLosses {'ner': 22538.84976293652}\nLosses {'ner': 22549.817811807083}\nLosses {'ner': 22573.477417667793}\nLosses {'ner': 22602.09060903399}\nLosses {'ner': 22640.295158823417}\nLosses {'ner': 22673.922392805503}\nLosses {'ner': 22695.245380540775}\nLosses {'ner': 22710.987546583103}\nLosses {'ner': 22730.22955026238}\nLosses {'ner': 22759.522346397327}\nLosses {'ner': 22804.09780158608}\nLosses {'ner': 22835.08488788216}\nLosses {'ner': 22873.019208808826}\nLosses {'ner': 22894.3491261801}\nLosses {'ner': 22911.224775989936}\nLosses {'ner': 22936.28970189898}\nLosses {'ner': 22970.19523378222}\nLosses {'ner': 22989.556896885322}\nLosses {'ner': 23033.23598213999}\nLosses {'ner': 23057.617085894035}\nLosses {'ner': 23071.554544021772}\nLosses {'ner': 23104.296073724912}\nLosses {'ner': 23125.73475175111}\nLosses {'ner': 23160.343601276563}\nLosses {'ner': 23169.186424126314}\nLosses {'ner': 23180.6803489825}\nLosses {'ner': 23223.82284461467}\nLosses {'ner': 23261.203080525087}\nLosses {'ner': 23305.053828110384}\nLosses {'ner': 23352.541308273958}\nLosses {'ner': 23384.052497734712}\nLosses {'ner': 23431.66749559848}\nLosses {'ner': 23450.765858044313}\nLosses {'ner': 23465.98098741977}\nLosses {'ner': 23482.439274301218}\nLosses {'ner': 23508.155962218927}\nLosses {'ner': 23531.795800914453}\nLosses {'ner': 23546.678103198694}\nLosses {'ner': 23589.08776353805}\nLosses {'ner': 23620.295752277063}\nLosses {'ner': 23660.079000701593}\nLosses {'ner': 23679.20180653541}\nLosses {'ner': 23701.966969003366}\nLosses {'ner': 23727.726719369577}\nLosses {'ner': 23747.72785507648}\nLosses {'ner': 23788.851719250368}\nLosses {'ner': 23811.0102153918}\nLosses {'ner': 23833.155050029443}\nLosses {'ner': 23858.049040307687}\nLosses {'ner': 23886.187120427774}\nLosses {'ner': 23902.4319312474}\nLosses {'ner': 23963.37596868484}\nLosses {'ner': 23991.44228266685}\nLosses {'ner': 24004.266099443124}\nLosses {'ner': 24060.627722253488}\nLosses {'ner': 24073.975226005005}\nLosses {'ner': 24094.358561595367}\nLosses {'ner': 24110.931326349662}\nLosses {'ner': 24165.861971338676}\nLosses {'ner': 24189.96782382338}\nLosses {'ner': 24232.50124009459}\nLosses {'ner': 24245.75664712994}\nLosses {'ner': 24280.925710698055}\nLosses {'ner': 24300.202316542553}\nLosses {'ner': 24320.930776616024}\nLosses {'ner': 24362.36492158978}\nLosses {'ner': 24393.778967877315}\nLosses {'ner': 24406.30867197125}\nLosses {'ner': 24435.882958908962}\nLosses {'ner': 24454.626971682}\nLosses {'ner': 24513.46552129595}\nLosses {'ner': 24555.02376266329}\nLosses {'ner': 24585.461280306266}\nLosses {'ner': 24617.096231897758}\nLosses {'ner': 24658.85078235476}\nLosses {'ner': 24686.172571619438}\nLosses {'ner': 24695.021893521236}\nLosses {'ner': 24726.44101121037}\nLosses {'ner': 24750.062698384212}\nLosses {'ner': 24778.005199929165}\nLosses {'ner': 24798.299074431347}\nLosses {'ner': 24813.05703636019}\nLosses {'ner': 24842.603966196464}\nLosses {'ner': 24857.298251946853}\nLosses {'ner': 24876.99803026526}\nLosses {'ner': 24906.24154671042}\nLosses {'ner': 24951.060483535217}\nLosses {'ner': 24961.934750398086}\nLosses {'ner': 24976.848021109985}\nLosses {'ner': 25018.06828363745}\nLosses {'ner': 25038.79650553076}\nLosses {'ner': 25068.80182453005}\nLosses {'ner': 25085.948055466102}\nLosses {'ner': 25142.306103905128}\nLosses {'ner': 25191.33568211405}\nLosses {'ner': 25247.310502727913}\nLosses {'ner': 25263.97754247992}\nLosses {'ner': 25302.167578776764}\nLosses {'ner': 25322.47489627211}\nLosses {'ner': 25348.518982013153}\nLosses {'ner': 25382.22481544821}\nLosses {'ner': 25401.29676230757}\nLosses {'ner': 25433.17400916426}\nLosses {'ner': 25448.257687648224}\nLosses {'ner': 25496.306918700622}\nLosses {'ner': 25517.26696546881}\nLosses {'ner': 25553.66988666861}\nLosses {'ner': 25575.62198713927}\nLosses {'ner': 25598.39573386817}\nLosses {'ner': 25627.95961979537}\nLosses {'ner': 25660.225381528424}\nLosses {'ner': 25686.62728277354}\nLosses {'ner': 25710.22576645522}\nLosses {'ner': 25729.94394064455}\nLosses {'ner': 25783.1523661664}\nLosses {'ner': 25803.654393439578}\nLosses {'ner': 25825.17667437105}\nLosses {'ner': 25845.71679378061}\nLosses {'ner': 25873.87720370798}\nLosses {'ner': 25895.75017190485}\nLosses {'ner': 25968.736236815737}\nLosses {'ner': 26008.46844697504}\nLosses {'ner': 26028.083476071643}\nLosses {'ner': 26052.293087725924}\nLosses {'ner': 26084.86944509058}\nLosses {'ner': 26107.235617642687}\nLosses {'ner': 26145.43168783693}\nLosses {'ner': 26169.643540983485}\nLosses {'ner': 26200.262713318156}\nLosses {'ner': 26225.44565523176}\nLosses {'ner': 26255.116425638484}\nLosses {'ner': 26281.468636756228}\nLosses {'ner': 26302.93451524286}\nLosses {'ner': 26352.402688746737}\nLosses {'ner': 26405.525737529086}\nLosses {'ner': 26426.695435171412}\nLosses {'ner': 26444.29670131712}\nLosses {'ner': 26468.06601560621}\nLosses {'ner': 26495.165144329356}\nLosses {'ner': 26554.925808315562}\nLosses {'ner': 26577.60847294836}\nLosses {'ner': 26590.283616369055}\nLosses {'ner': 26649.96120578556}\nLosses {'ner': 26694.39686328678}\nLosses {'ner': 26756.370844190405}\nLosses {'ner': 26800.51663285999}\nLosses {'ner': 26831.399756734656}\nLosses {'ner': 26838.564843160497}\nLosses {'ner': 26858.675624830114}\nLosses {'ner': 26888.13382099329}\nLosses {'ner': 26972.390270692693}\nLosses {'ner': 27023.718574506627}\nLosses {'ner': 27065.30184839426}\nLosses {'ner': 27120.637525541173}\nLosses {'ner': 27150.070605499135}\nLosses {'ner': 27181.74283526598}\nLosses {'ner': 27206.8516061133}\nLosses {'ner': 27251.68444607912}\nLosses {'ner': 27268.597929460393}\nLosses {'ner': 27295.79995427786}\nLosses {'ner': 27328.395277363645}\nLosses {'ner': 27375.7389510697}\nLosses {'ner': 27397.88286648451}\nLosses {'ner': 27400.827810732113}\n"
    }
   ],
   "source": [
    "# Import requirements\n",
    "import random\n",
    "from spacy.util import minibatch, compounding\n",
    "from pathlib import Path\n",
    "\n",
    "# TRAINING THE MODEL\n",
    "with nlp.disable_pipes(*unaffected_pipes):\n",
    "  optimizer = nlp.begin_training()\n",
    "  # Training for 30 iterations\n",
    "  for iteration in range(30):\n",
    "\n",
    "    # shuufling examples  before every iteration\n",
    "    random.shuffle(data)\n",
    "    losses = {}\n",
    "    # batch up the examples using spaCy's minibatch\n",
    "    batches = minibatch(data, size=compounding(4.0, 32.0, 1.001))\n",
    "    for batch in batches:\n",
    "        texts, annotations = zip(*batch)\n",
    "        nlp.update(\n",
    "                    texts,  # batch of texts\n",
    "                    annotations,  # batch of annotations\n",
    "                    drop=0.5,  # dropout - make it harder to memorise data\n",
    "                    losses=losses,\n",
    "                )\n",
    "        print(\"Losses\", losses)"
   ]
  },
  {
   "cell_type": "code",
   "execution_count": 11,
   "metadata": {
    "tags": []
   },
   "outputs": [
    {
     "output_type": "stream",
     "name": "stdout",
     "text": "Entities [('pizza', 'restaurant.type.food')]\n"
    }
   ],
   "source": [
    "# Testing the model\n",
    "doc = nlp(\"I am looking for a pizza spot for dinner\")\n",
    "print(\"Entities\", [(ent.text, ent.label_) for ent in doc.ents])"
   ]
  },
  {
   "cell_type": "code",
   "execution_count": 15,
   "metadata": {
    "tags": []
   },
   "outputs": [
    {
     "output_type": "stream",
     "name": "stdout",
     "text": "Saved model to C:\\Users\\Ben\\Documents\\ebacs\\practical_language_processing\\ebacs_plp_project\\model\n"
    }
   ],
   "source": [
    "# Output directory\n",
    "from pathlib import Path\n",
    "output_dir=Path('C:\\\\Users\\\\Ben\\\\Documents\\\\ebacs\\\\practical_language_processing\\\\ebacs_plp_project\\\\model\\\\')\n",
    "\n",
    "# Saving the model to the output directory\n",
    "if not output_dir.exists():\n",
    "  output_dir.mkdir()\n",
    "nlp.meta['name'] = 'chatbot_ner'  # rename model\n",
    "nlp.to_disk(output_dir)\n",
    "print(\"Saved model to\", output_dir)"
   ]
  },
  {
   "cell_type": "code",
   "execution_count": 31,
   "metadata": {
    "tags": []
   },
   "outputs": [
    {
     "output_type": "stream",
     "name": "stdout",
     "text": "restaurant.type.food\n"
    }
   ],
   "source": [
    "for ent in doc.ents:\n",
    "    print(ent.label_)"
   ]
  },
  {
   "cell_type": "code",
   "execution_count": 38,
   "metadata": {},
   "outputs": [
    {
     "output_type": "display_data",
     "data": {
      "text/plain": "<IPython.core.display.HTML object>",
      "text/html": "<span class=\"tex2jax_ignore\"><div class=\"entities\" style=\"line-height: 2.5; direction: ltr\">I am looking for a \n<mark class=\"entity\" style=\"background: #ddd; padding: 0.45em 0.6em; margin: 0 0.25em; line-height: 1; border-radius: 0.35em;\">\n    pizza\n    <span style=\"font-size: 0.8em; font-weight: bold; line-height: 1; border-radius: 0.35em; text-transform: uppercase; vertical-align: middle; margin-left: 0.5rem\">restaurant.type.food</span>\n</mark>\n spot for dinner</div></span>"
     },
     "metadata": {}
    }
   ],
   "source": [
    "from spacy import displacy\n",
    "\n",
    "displacy.render(doc, style = \"ent\")"
   ]
  },
  {
   "cell_type": "code",
   "execution_count": null,
   "metadata": {},
   "outputs": [],
   "source": []
  }
 ]
}